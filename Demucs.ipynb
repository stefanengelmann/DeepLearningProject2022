{
 "cells": [
  {
   "cell_type": "markdown",
   "metadata": {
    "colab_type": "text",
    "id": "Be9yoh-ILfRr"
   },
   "source": [
    "# [*Colab code for Demucs*](https://github.com/facebookresearch/demucs/)\n",
    "\n",
    "Original version by marlluslustosa **https://github.com/marlluslustosa/demucs/blob/master/Demucs.ipynb**\n",
    "\n",
    "However, now things are much simpler with Demucs v2, so this might not be so useful. There is now a Colab version:\n",
    "https://colab.research.google.com/drive/1jCegIzLIuqqcM85uVs3WCeAJiSoYq3oh?usp=sharing"
   ]
  },
  {
   "cell_type": "code",
   "execution_count": 3,
   "metadata": {
    "colab": {
     "base_uri": "https://localhost:8080/",
     "height": 139
    },
    "colab_type": "code",
    "executionInfo": {
     "elapsed": 12277,
     "status": "ok",
     "timestamp": 1583778134659,
     "user": {
      "displayName": "Marllus Lustosa",
      "photoUrl": "https://lh3.googleusercontent.com/a-/AOh14GgLl2RbW64ZyWz3Y8IBku0zhHCMnt7fz7fEl0LTdA=s64",
      "userId": "14811735256675200480"
     },
     "user_tz": 180
    },
    "id": "kOjIPLlzhPfn",
    "outputId": "c75f17ec-b576-4105-bc5b-c2ac9c1018a3"
   },
   "outputs": [
    {
     "name": "stdout",
     "output_type": "stream",
     "text": [
      "Requirement already satisfied: demucs in /Users/MarkusOlsen/anaconda3/lib/python3.7/site-packages (3.0.5)\n",
      "Requirement already satisfied: diffq>=0.2.1 in /Users/MarkusOlsen/anaconda3/lib/python3.7/site-packages (from demucs) (0.2.3)\n",
      "Requirement already satisfied: lameenc>=1.2 in /Users/MarkusOlsen/anaconda3/lib/python3.7/site-packages (from demucs) (1.4.1)\n",
      "Requirement already satisfied: pyyaml in /Users/MarkusOlsen/anaconda3/lib/python3.7/site-packages (from demucs) (6.0)\n",
      "Requirement already satisfied: torchaudio>=0.8 in /Users/MarkusOlsen/anaconda3/lib/python3.7/site-packages (from demucs) (0.13.0)\n",
      "Requirement already satisfied: openunmix in /Users/MarkusOlsen/anaconda3/lib/python3.7/site-packages (from demucs) (1.2.1)\n",
      "Requirement already satisfied: torch>=1.8.1 in /Users/MarkusOlsen/anaconda3/lib/python3.7/site-packages (from demucs) (1.13.0)\n",
      "Requirement already satisfied: dora-search in /Users/MarkusOlsen/anaconda3/lib/python3.7/site-packages (from demucs) (0.1.11)\n",
      "Requirement already satisfied: julius>=0.2.3 in /Users/MarkusOlsen/anaconda3/lib/python3.7/site-packages (from demucs) (0.2.7)\n",
      "Requirement already satisfied: tqdm in /Users/MarkusOlsen/anaconda3/lib/python3.7/site-packages (from demucs) (4.64.0)\n",
      "Requirement already satisfied: numpy in /Users/MarkusOlsen/anaconda3/lib/python3.7/site-packages (from diffq>=0.2.1->demucs) (1.21.5)\n",
      "Requirement already satisfied: Cython in /Users/MarkusOlsen/anaconda3/lib/python3.7/site-packages (from diffq>=0.2.1->demucs) (0.29.32)\n",
      "Requirement already satisfied: typing-extensions in /Users/MarkusOlsen/anaconda3/lib/python3.7/site-packages (from torch>=1.8.1->demucs) (4.1.1)\n",
      "Requirement already satisfied: omegaconf in /Users/MarkusOlsen/anaconda3/lib/python3.7/site-packages (from dora-search->demucs) (2.2.3)\n",
      "Requirement already satisfied: submitit in /Users/MarkusOlsen/anaconda3/lib/python3.7/site-packages (from dora-search->demucs) (1.4.5)\n",
      "Requirement already satisfied: retrying in /Users/MarkusOlsen/anaconda3/lib/python3.7/site-packages (from dora-search->demucs) (1.3.3)\n",
      "Requirement already satisfied: treetable in /Users/MarkusOlsen/anaconda3/lib/python3.7/site-packages (from dora-search->demucs) (0.2.5)\n",
      "Requirement already satisfied: antlr4-python3-runtime==4.9.* in /Users/MarkusOlsen/anaconda3/lib/python3.7/site-packages (from omegaconf->dora-search->demucs) (4.9.3)\n",
      "Requirement already satisfied: six>=1.7.0 in /Users/MarkusOlsen/anaconda3/lib/python3.7/site-packages (from retrying->dora-search->demucs) (1.16.0)\n",
      "Requirement already satisfied: cloudpickle>=1.2.1 in /Users/MarkusOlsen/anaconda3/lib/python3.7/site-packages (from submitit->dora-search->demucs) (2.2.0)\n",
      "\n",
      "\u001b[1m[\u001b[0m\u001b[34;49mnotice\u001b[0m\u001b[1;39;49m]\u001b[0m\u001b[39;49m A new release of pip available: \u001b[0m\u001b[31;49m22.2.2\u001b[0m\u001b[39;49m -> \u001b[0m\u001b[32;49m22.3.1\u001b[0m\n",
      "\u001b[1m[\u001b[0m\u001b[34;49mnotice\u001b[0m\u001b[1;39;49m]\u001b[0m\u001b[39;49m To update, run: \u001b[0m\u001b[32;49mpip install --upgrade pip\u001b[0m\n"
     ]
    }
   ],
   "source": [
    "!pip install demucs"
   ]
  },
  {
   "cell_type": "markdown",
   "metadata": {
    "colab_type": "text",
    "id": "Y1BdlzOQi3y7"
   },
   "source": [
    "\n",
    "\n",
    "---\n",
    "\n",
    "\n",
    "# **Here begins the code for separating the audio source (model pretrained)**\n",
    "###**- Upload your song to demucs/ folder and edit YOUR-SONG-PATH.mp3**\n",
    "\n",
    "\n",
    "---\n",
    "\n"
   ]
  },
  {
   "cell_type": "code",
   "execution_count": 4,
   "metadata": {
    "colab": {},
    "colab_type": "code",
    "id": "5lYOzKKCKAbJ"
   },
   "outputs": [
    {
     "name": "stdout",
     "output_type": "stream",
     "text": [
      "Separated tracks will be stored in /Users/MarkusOlsen/School/DeepLearningProject2022/separated/demucs_quantized\n",
      "Separating track test.mp3\n",
      "100%|██████████████████████████████████████████████████████████████████████████| 30.0/30.0 [00:22<00:00,  1.33seconds/s]\n"
     ]
    }
   ],
   "source": [
    "!python3 -m demucs.separate test.mp3"
   ]
  },
  {
   "cell_type": "code",
   "execution_count": null,
   "metadata": {},
   "outputs": [],
   "source": []
  }
 ],
 "metadata": {
  "accelerator": "GPU",
  "colab": {
   "authorship_tag": "ABX9TyM9xpVr1M86NRcjtQ7g9tCx",
   "collapsed_sections": [],
   "name": "Demucs.ipynb",
   "provenance": []
  },
  "kernelspec": {
   "display_name": "Python 3.7.3 ('base')",
   "language": "python",
   "name": "python3"
  },
  "language_info": {
   "codemirror_mode": {
    "name": "ipython",
    "version": 3
   },
   "file_extension": ".py",
   "mimetype": "text/x-python",
   "name": "python",
   "nbconvert_exporter": "python",
   "pygments_lexer": "ipython3",
   "version": "3.7.3"
  },
  "vscode": {
   "interpreter": {
    "hash": "9430fa962368ed4387251a9d1485ac69452138ff4fccfa03223f275ccfdee3b3"
   }
  }
 },
 "nbformat": 4,
 "nbformat_minor": 1
}
