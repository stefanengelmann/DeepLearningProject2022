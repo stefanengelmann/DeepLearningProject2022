{
 "cells": [
  {
   "cell_type": "markdown",
   "metadata": {
    "colab_type": "text",
    "id": "Be9yoh-ILfRr"
   },
   "source": [
    "# [*Colab code for Demucs*](https://github.com/facebookresearch/demucs/)\n",
    "\n",
    "Original version by marlluslustosa **https://github.com/marlluslustosa/demucs/blob/master/Demucs.ipynb**\n",
    "\n",
    "However, now things are much simpler with Demucs v2, so this might not be so useful. There is now a Colab version:\n",
    "https://colab.research.google.com/drive/1jCegIzLIuqqcM85uVs3WCeAJiSoYq3oh?usp=sharing"
   ]
  },
  {
   "cell_type": "code",
   "execution_count": null,
   "metadata": {
    "colab": {
     "base_uri": "https://localhost:8080/",
     "height": 139
    },
    "colab_type": "code",
    "executionInfo": {
     "elapsed": 12277,
     "status": "ok",
     "timestamp": 1583778134659,
     "user": {
      "displayName": "Marllus Lustosa",
      "photoUrl": "https://lh3.googleusercontent.com/a-/AOh14GgLl2RbW64ZyWz3Y8IBku0zhHCMnt7fz7fEl0LTdA=s64",
      "userId": "14811735256675200480"
     },
     "user_tz": 180
    },
    "id": "kOjIPLlzhPfn",
    "outputId": "c75f17ec-b576-4105-bc5b-c2ac9c1018a3"
   },
   "outputs": [],
   "source": [
    "!pip install demucs"
   ]
  },
  {
   "cell_type": "markdown",
   "metadata": {
    "colab_type": "text",
    "id": "Y1BdlzOQi3y7"
   },
   "source": [
    "\n",
    "\n",
    "---\n",
    "\n",
    "\n",
    "# **Here begins the code for separating the audio source (model pretrained)**\n",
    "###**- Upload your song to demucs/ folder and edit YOUR-SONG-PATH.mp3**\n",
    "\n",
    "\n",
    "---\n",
    "\n"
   ]
  },
  {
   "cell_type": "code",
   "execution_count": null,
   "metadata": {
    "colab": {},
    "colab_type": "code",
    "id": "5lYOzKKCKAbJ"
   },
   "outputs": [],
   "source": [
    "!python3 -m demucs.separate test.mp3"
   ]
  },
  {
   "cell_type": "code",
   "execution_count": null,
   "metadata": {},
   "outputs": [],
   "source": []
  }
 ],
 "metadata": {
  "accelerator": "GPU",
  "colab": {
   "authorship_tag": "ABX9TyM9xpVr1M86NRcjtQ7g9tCx",
   "collapsed_sections": [],
   "name": "Demucs.ipynb",
   "provenance": []
  },
  "kernelspec": {
   "display_name": "Python 3",
   "language": "python",
   "name": "python3"
  },
  "language_info": {
   "codemirror_mode": {
    "name": "ipython",
    "version": 3
   },
   "file_extension": ".py",
   "mimetype": "text/x-python",
   "name": "python",
   "nbconvert_exporter": "python",
   "pygments_lexer": "ipython3",
   "version": "3.8.3"
  }
 },
 "nbformat": 4,
 "nbformat_minor": 1
}
